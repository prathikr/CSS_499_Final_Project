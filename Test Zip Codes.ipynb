{
 "cells": [
  {
   "cell_type": "code",
   "execution_count": 215,
   "metadata": {},
   "outputs": [
    {
     "data": {
      "text/html": [
       "<div>\n",
       "<style scoped>\n",
       "    .dataframe tbody tr th:only-of-type {\n",
       "        vertical-align: middle;\n",
       "    }\n",
       "\n",
       "    .dataframe tbody tr th {\n",
       "        vertical-align: top;\n",
       "    }\n",
       "\n",
       "    .dataframe thead th {\n",
       "        text-align: right;\n",
       "    }\n",
       "</style>\n",
       "<table border=\"1\" class=\"dataframe\">\n",
       "  <thead>\n",
       "    <tr style=\"text-align: right;\">\n",
       "      <th></th>\n",
       "      <th>ACTIVITY DATE</th>\n",
       "      <th>OWNER ID</th>\n",
       "      <th>OWNER NAME</th>\n",
       "      <th>FACILITY ID</th>\n",
       "      <th>FACILITY NAME</th>\n",
       "      <th>RECORD ID</th>\n",
       "      <th>PROGRAM NAME</th>\n",
       "      <th>PROGRAM STATUS</th>\n",
       "      <th>PROGRAM ELEMENT (PE)</th>\n",
       "      <th>PE DESCRIPTION</th>\n",
       "      <th>...</th>\n",
       "      <th>FACILITY CITY</th>\n",
       "      <th>FACILITY STATE</th>\n",
       "      <th>FACILITY ZIP</th>\n",
       "      <th>SERVICE CODE</th>\n",
       "      <th>SERVICE DESCRIPTION</th>\n",
       "      <th>SCORE</th>\n",
       "      <th>GRADE</th>\n",
       "      <th>SERIAL NUMBER</th>\n",
       "      <th>EMPLOYEE ID</th>\n",
       "      <th>Location</th>\n",
       "    </tr>\n",
       "  </thead>\n",
       "  <tbody>\n",
       "    <tr>\n",
       "      <th>0</th>\n",
       "      <td>04/12/2017</td>\n",
       "      <td>OW0003351</td>\n",
       "      <td>AUDREY KIM BRIDAL COLLECTION</td>\n",
       "      <td>FA0010275</td>\n",
       "      <td>BOBA YA</td>\n",
       "      <td>PR0029878</td>\n",
       "      <td>BOBA YA</td>\n",
       "      <td>ACTIVE</td>\n",
       "      <td>1631</td>\n",
       "      <td>RESTAURANT (0-30) SEATS MODERATE RISK</td>\n",
       "      <td>...</td>\n",
       "      <td>LA MIRADA</td>\n",
       "      <td>CA</td>\n",
       "      <td>90638</td>\n",
       "      <td>1</td>\n",
       "      <td>ROUTINE INSPECTION</td>\n",
       "      <td>95</td>\n",
       "      <td>A</td>\n",
       "      <td>DAH2Z9080</td>\n",
       "      <td>EE0000744</td>\n",
       "      <td>NaN</td>\n",
       "    </tr>\n",
       "    <tr>\n",
       "      <th>1</th>\n",
       "      <td>04/12/2017</td>\n",
       "      <td>OW0181132</td>\n",
       "      <td>THAI CITY DUARTE INC.</td>\n",
       "      <td>FA0174471</td>\n",
       "      <td>THAI CITY RESTAURANT</td>\n",
       "      <td>PR0167479</td>\n",
       "      <td>THAI CITY RESTAURANT</td>\n",
       "      <td>ACTIVE</td>\n",
       "      <td>1635</td>\n",
       "      <td>RESTAURANT (31-60) SEATS HIGH RISK</td>\n",
       "      <td>...</td>\n",
       "      <td>DUARTE</td>\n",
       "      <td>CA</td>\n",
       "      <td>91010</td>\n",
       "      <td>1</td>\n",
       "      <td>ROUTINE INSPECTION</td>\n",
       "      <td>90</td>\n",
       "      <td>A</td>\n",
       "      <td>DACH7Y18F</td>\n",
       "      <td>EE0000120</td>\n",
       "      <td>NaN</td>\n",
       "    </tr>\n",
       "    <tr>\n",
       "      <th>2</th>\n",
       "      <td>04/13/2017</td>\n",
       "      <td>OW0125502</td>\n",
       "      <td>SWEE KOK CHER</td>\n",
       "      <td>FA0160544</td>\n",
       "      <td>SUSHI FIRE</td>\n",
       "      <td>PR0148634</td>\n",
       "      <td>SUSHI FIRE</td>\n",
       "      <td>ACTIVE</td>\n",
       "      <td>1635</td>\n",
       "      <td>RESTAURANT (31-60) SEATS HIGH RISK</td>\n",
       "      <td>...</td>\n",
       "      <td>DUARTE</td>\n",
       "      <td>CA</td>\n",
       "      <td>91010</td>\n",
       "      <td>1</td>\n",
       "      <td>ROUTINE INSPECTION</td>\n",
       "      <td>90</td>\n",
       "      <td>A</td>\n",
       "      <td>DAEOLNF0Z</td>\n",
       "      <td>EE0000120</td>\n",
       "      <td>NaN</td>\n",
       "    </tr>\n",
       "    <tr>\n",
       "      <th>3</th>\n",
       "      <td>04/13/2017</td>\n",
       "      <td>OW0010326</td>\n",
       "      <td>DOS MONTANAS LLC</td>\n",
       "      <td>FA0012454</td>\n",
       "      <td>TIPSY WINGS</td>\n",
       "      <td>PR0018288</td>\n",
       "      <td>TIPSY WINGS</td>\n",
       "      <td>INACTIVE</td>\n",
       "      <td>1638</td>\n",
       "      <td>RESTAURANT (61-150) SEATS HIGH RISK</td>\n",
       "      <td>...</td>\n",
       "      <td>EL MONTE</td>\n",
       "      <td>CA</td>\n",
       "      <td>91732</td>\n",
       "      <td>1</td>\n",
       "      <td>ROUTINE INSPECTION</td>\n",
       "      <td>95</td>\n",
       "      <td>A</td>\n",
       "      <td>DABTUPVHJ</td>\n",
       "      <td>EE0000188</td>\n",
       "      <td>POINT (-118.020082 34.07441)</td>\n",
       "    </tr>\n",
       "    <tr>\n",
       "      <th>4</th>\n",
       "      <td>04/19/2017</td>\n",
       "      <td>OW0107342</td>\n",
       "      <td>MARIELENA RODRIGUEZ</td>\n",
       "      <td>FA0144532</td>\n",
       "      <td>ARI'S SHOP</td>\n",
       "      <td>PR0130618</td>\n",
       "      <td>ARI'S SHOP</td>\n",
       "      <td>ACTIVE</td>\n",
       "      <td>1610</td>\n",
       "      <td>FOOD MKT RETAIL (1-1,999 SF) LOW RISK</td>\n",
       "      <td>...</td>\n",
       "      <td>LOS ANGELES</td>\n",
       "      <td>CA</td>\n",
       "      <td>90012</td>\n",
       "      <td>1</td>\n",
       "      <td>ROUTINE INSPECTION</td>\n",
       "      <td>100</td>\n",
       "      <td>A</td>\n",
       "      <td>DAL4G6OJH</td>\n",
       "      <td>EE0001058</td>\n",
       "      <td>NaN</td>\n",
       "    </tr>\n",
       "  </tbody>\n",
       "</table>\n",
       "<p>5 rows × 21 columns</p>\n",
       "</div>"
      ],
      "text/plain": [
       "  ACTIVITY DATE   OWNER ID                    OWNER NAME FACILITY ID  \\\n",
       "0    04/12/2017  OW0003351  AUDREY KIM BRIDAL COLLECTION   FA0010275   \n",
       "1    04/12/2017  OW0181132         THAI CITY DUARTE INC.   FA0174471   \n",
       "2    04/13/2017  OW0125502                 SWEE KOK CHER   FA0160544   \n",
       "3    04/13/2017  OW0010326              DOS MONTANAS LLC   FA0012454   \n",
       "4    04/19/2017  OW0107342           MARIELENA RODRIGUEZ   FA0144532   \n",
       "\n",
       "          FACILITY NAME  RECORD ID          PROGRAM NAME PROGRAM STATUS  \\\n",
       "0               BOBA YA  PR0029878               BOBA YA         ACTIVE   \n",
       "1  THAI CITY RESTAURANT  PR0167479  THAI CITY RESTAURANT         ACTIVE   \n",
       "2            SUSHI FIRE  PR0148634            SUSHI FIRE         ACTIVE   \n",
       "3           TIPSY WINGS  PR0018288           TIPSY WINGS       INACTIVE   \n",
       "4            ARI'S SHOP  PR0130618            ARI'S SHOP         ACTIVE   \n",
       "\n",
       "   PROGRAM ELEMENT (PE)                         PE DESCRIPTION  ...  \\\n",
       "0                  1631  RESTAURANT (0-30) SEATS MODERATE RISK  ...   \n",
       "1                  1635     RESTAURANT (31-60) SEATS HIGH RISK  ...   \n",
       "2                  1635     RESTAURANT (31-60) SEATS HIGH RISK  ...   \n",
       "3                  1638    RESTAURANT (61-150) SEATS HIGH RISK  ...   \n",
       "4                  1610  FOOD MKT RETAIL (1-1,999 SF) LOW RISK  ...   \n",
       "\n",
       "  FACILITY CITY FACILITY STATE FACILITY ZIP SERVICE CODE  SERVICE DESCRIPTION  \\\n",
       "0     LA MIRADA             CA        90638            1   ROUTINE INSPECTION   \n",
       "1        DUARTE             CA        91010            1   ROUTINE INSPECTION   \n",
       "2        DUARTE             CA        91010            1   ROUTINE INSPECTION   \n",
       "3      EL MONTE             CA        91732            1   ROUTINE INSPECTION   \n",
       "4   LOS ANGELES             CA        90012            1   ROUTINE INSPECTION   \n",
       "\n",
       "  SCORE  GRADE SERIAL NUMBER EMPLOYEE ID                      Location  \n",
       "0    95      A     DAH2Z9080   EE0000744                           NaN  \n",
       "1    90      A     DACH7Y18F   EE0000120                           NaN  \n",
       "2    90      A     DAEOLNF0Z   EE0000120                           NaN  \n",
       "3    95      A     DABTUPVHJ   EE0000188  POINT (-118.020082 34.07441)  \n",
       "4   100      A     DAL4G6OJH   EE0001058                           NaN  \n",
       "\n",
       "[5 rows x 21 columns]"
      ]
     },
     "execution_count": 215,
     "metadata": {},
     "output_type": "execute_result"
    }
   ],
   "source": [
    "import pandas as pd\n",
    "\n",
    "def load_data(url):\n",
    "    # read csv from github url\n",
    "    # return pandas dataframe\n",
    "    df = pd.read_csv(url)\n",
    "    return df\n",
    "\n",
    "# load inspections dataset\n",
    "los_angeles_inspections_url = 'https://raw.githubusercontent.com/prathikr/CS_499_Final_Project/master/LOS_ANGELES_COUNTY_RESTAURANT_AND_MARKET_INSPECTIONS.csv'\n",
    "\n",
    "df = load_data(los_angeles_inspections_url)\n",
    "df.head()\n",
    "print(df['State'])"
   ]
  },
  {
   "cell_type": "code",
   "execution_count": 216,
   "metadata": {},
   "outputs": [
    {
     "name": "stdout",
     "output_type": "stream",
     "text": [
      "Index(['ACTIVITY DATE', 'OWNER ID', 'OWNER NAME', 'FACILITY ID',\n",
      "       'FACILITY NAME', 'RECORD ID', 'PROGRAM NAME', 'PROGRAM STATUS',\n",
      "       'PROGRAM ELEMENT (PE)', 'PE DESCRIPTION', 'FACILITY ADDRESS',\n",
      "       'FACILITY CITY', 'FACILITY STATE', 'FACILITY ZIP', 'SERVICE CODE',\n",
      "       'SERVICE DESCRIPTION', 'SCORE', 'GRADE', 'SERIAL NUMBER', 'EMPLOYEE ID',\n",
      "       'Location'],\n",
      "      dtype='object')\n"
     ]
    }
   ],
   "source": [
    "print(df.columns)"
   ]
  },
  {
   "cell_type": "code",
   "execution_count": 217,
   "metadata": {},
   "outputs": [
    {
     "data": {
      "text/plain": [
       "0   2017-04-12\n",
       "1   2017-04-12\n",
       "2   2017-04-13\n",
       "3   2017-04-13\n",
       "4   2017-04-19\n",
       "Name: ACTIVITY DATE, dtype: datetime64[ns]"
      ]
     },
     "execution_count": 217,
     "metadata": {},
     "output_type": "execute_result"
    }
   ],
   "source": [
    "# convert activity_date string to datetime object\n",
    "df['ACTIVITY DATE'] = pd.to_datetime(df['ACTIVITY DATE'], format=\"%m/%d/%Y\")\n",
    "df['ACTIVITY DATE'].head()"
   ]
  },
  {
   "cell_type": "code",
   "execution_count": 218,
   "metadata": {},
   "outputs": [
    {
     "data": {
      "text/plain": [
       "0    90638\n",
       "1    91010\n",
       "2    91010\n",
       "3    91732\n",
       "4    90012\n",
       "Name: FACILITY ZIP, dtype: object"
      ]
     },
     "execution_count": 218,
     "metadata": {},
     "output_type": "execute_result"
    }
   ],
   "source": [
    "# format all zipcodes into 5-digit numbers\n",
    "df['FACILITY ZIP'] = df['FACILITY ZIP'].str[:5]\n",
    "df['FACILITY ZIP'].head()"
   ]
  },
  {
   "cell_type": "code",
   "execution_count": 219,
   "metadata": {},
   "outputs": [
    {
     "name": "stdout",
     "output_type": "stream",
     "text": [
      "og df: (202339, 21)\n",
      "new df: (202339, 20)\n"
     ]
    }
   ],
   "source": [
    "print(\"og df:\", df.shape)\n",
    "df.drop(columns=['PE DESCRIPTION'], inplace=True)\n",
    "print(\"new df:\", df.shape)"
   ]
  },
  {
   "cell_type": "code",
   "execution_count": 220,
   "metadata": {},
   "outputs": [],
   "source": [
    "with open('ca_california_zip_codes.geojson', 'r') as jsonFile:\n",
    "    data = json.load(jsonFile)\n",
    "tmp = data"
   ]
  },
  {
   "cell_type": "code",
   "execution_count": 221,
   "metadata": {},
   "outputs": [],
   "source": [
    "geozips = []\n",
    "for i in range(len(tmp['features'])):\n",
    "    if tmp['features'][i]['properties']['ZCTA5CE10'] in list(df['FACILITY ZIP'].unique()):\n",
    "        geozips.append(tmp['features'][i])"
   ]
  },
  {
   "cell_type": "code",
   "execution_count": 222,
   "metadata": {},
   "outputs": [],
   "source": [
    "new_json = dict.fromkeys(['type', 'features'])\n",
    "new_json['type'] = 'FeatureCollection'\n",
    "new_json['features'] = geozips"
   ]
  },
  {
   "cell_type": "code",
   "execution_count": 223,
   "metadata": {},
   "outputs": [
    {
     "data": {
      "text/plain": [
       "24982514"
      ]
     },
     "execution_count": 223,
     "metadata": {},
     "output_type": "execute_result"
    }
   ],
   "source": [
    "open(\"updated-file.json\", \"w\").write(\n",
    "    json.dumps(new_json, sort_keys=True, indent=4, separators=(',',': '))\n",
    ")"
   ]
  },
  {
   "cell_type": "code",
   "execution_count": 224,
   "metadata": {},
   "outputs": [],
   "source": [
    "def count_distribution(df, location, subgroup):\n",
    "    group_counts = pd.DataFrame(df.groupby([location, subgroup]).size().unstack(1))\n",
    "    group_counts.reset_index(inplace=True)\n",
    "    return group_counts"
   ]
  },
  {
   "cell_type": "code",
   "execution_count": 225,
   "metadata": {},
   "outputs": [],
   "source": [
    "def subgroup_distribution(df, location, subgroup):\n",
    "    group = df.groupby([location, subgroup]).size()\n",
    "    group_pcts = group.groupby(level=0).apply(lambda a: 100 * x/float(x.sum()))\n",
    "    group_pcts = pd.DataFrame(group_pcts.unstack(1))\n",
    "    group_pcts.reset_index(inplace=True)\n",
    "    return group_pcts"
   ]
  },
  {
   "cell_type": "code",
   "execution_count": 226,
   "metadata": {},
   "outputs": [],
   "source": [
    "import folium\n",
    "\n",
    "def create_map(table, zips, mapped_feature, add_text=''):\n",
    "    la_geo = r'updated-file.json'\n",
    "    m = folium.Map(location=[34.0522, -118.2437], zoom_start=11)\n",
    "    m.choropleth(\n",
    "        geo_data = la_geo,\n",
    "        fill_opacity = 0.7,\n",
    "        line_opacity = 0.2,\n",
    "        data = table,\n",
    "        key_on = 'feature.properties.ZCTA5CE10',\n",
    "        columns = [zips, mapped_feature],\n",
    "        fill_color = 'RdYlGn',\n",
    "        legend_name = (' ').join(mapped_feature.split('_')).title() + ' ' + add_text + ' Across LA'\n",
    "    )\n",
    "    folium.LayerControl().add_to(m)\n",
    "    m.save(outfile=mapped_feature + \"_map.html\")"
   ]
  },
  {
   "cell_type": "code",
   "execution_count": 227,
   "metadata": {},
   "outputs": [],
   "source": [
    "create_map(df, 'FACILITY ZIP', 'SCORE')"
   ]
  },
  {
   "cell_type": "code",
   "execution_count": null,
   "metadata": {},
   "outputs": [],
   "source": []
  }
 ],
 "metadata": {
  "kernelspec": {
   "display_name": "Python 3",
   "language": "python",
   "name": "python3"
  },
  "language_info": {
   "codemirror_mode": {
    "name": "ipython",
    "version": 3
   },
   "file_extension": ".py",
   "mimetype": "text/x-python",
   "name": "python",
   "nbconvert_exporter": "python",
   "pygments_lexer": "ipython3",
   "version": "3.7.3"
  }
 },
 "nbformat": 4,
 "nbformat_minor": 2
}
