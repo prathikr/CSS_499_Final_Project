{
 "cells": [
  {
   "cell_type": "code",
   "execution_count": null,
   "metadata": {},
   "outputs": [],
   "source": [
    "- def load_data(url):\n",
    "    \n",
    "-   # read csv from github url\n",
    "-   # return pandas dataframe \n",
    "- # ** Describe Data??\n",
    "- def trim_predictors(df):\n",
    "-   # extract nx1 vector for predictor and drop all other potential predictors all inplace \n",
    "-   # return extracted predictor values \n",
    "- def drop_NaN_columns(df):\n",
    "-   # replace all -999 with NaN inplace\n",
    "-   # calculate percentage of NaNs in each column\n",
    "-   # drop columns with > 25% inplace\n",
    "- def fill_NaN_columns(df):\n",
    "-   # replace NaNs with mean/mode inplace\n",
    "- # ** DO IN MAIN: concatenate w/ predictor vector Y inplace and extract Xtr, Ytr, Xte, Yte\n",
    "- def train_regression_model(Xtr, Ytr):\n",
    "-   # feed to regression model using k-fold cross validation and lambda regularization\n",
    "-   # display learned function \n",
    "-   # return model object\n",
    "- def test_regression_model(model, Xte, Yte):\n",
    "-   # feed test data to model and return performance measures in a vector\n"
   ]
  }
 ],
 "metadata": {
  "kernelspec": {
   "display_name": "Python 3",
   "language": "python",
   "name": "python3"
  },
  "language_info": {
   "codemirror_mode": {
    "name": "ipython",
    "version": 3
   },
   "file_extension": ".py",
   "mimetype": "text/x-python",
   "name": "python",
   "nbconvert_exporter": "python",
   "pygments_lexer": "ipython3",
   "version": "3.7.3"
  }
 },
 "nbformat": 4,
 "nbformat_minor": 2
}
