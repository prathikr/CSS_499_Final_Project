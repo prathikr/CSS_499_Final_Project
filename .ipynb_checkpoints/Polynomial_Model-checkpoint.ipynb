{
 "cells": [
  {
   "cell_type": "markdown",
   "metadata": {},
   "source": [
    "# Predicting Days Before Lapse for Marijuana Drug Abusers"
   ]
  },
  {
   "cell_type": "code",
   "execution_count": null,
   "metadata": {},
   "outputs": [],
   "source": [
    "import pandas as pd\n",
    "\n",
    "def load_data(url):\n",
    "    # read csv from github url\n",
    "    # return pandas dataframe\n",
    "    df = pd.read_csv(url)\n",
    "    return df\n",
    "\n",
    "url = 'https://raw.githubusercontent.com/prathikr/CS_499_Final_Project/master/BISTRA_GROUP_PROJECT_SMALL.csv'\n",
    "df = load_data(url)\n",
    "df.head(5)"
   ]
  },
  {
   "cell_type": "code",
   "execution_count": null,
   "metadata": {},
   "outputs": [],
   "source": [
    "# ** Describe Data??"
   ]
  },
  {
   "cell_type": "code",
   "execution_count": null,
   "metadata": {},
   "outputs": [],
   "source": [
    "def trim_predictors(df, predictor_col_name, cols_to_drop):\n",
    "    # extract nx1 vector for predictor and drop all other potential predictors\n",
    "    # display(df.columns)\n",
    "    print(\"Original df:\", df.shape)\n",
    "    Y = df[predictor_col_name]\n",
    "    print(\"Predictor column:\", Y.shape)\n",
    "    df.drop(columns=cols_to_drop, inplace=True)\n",
    "    print(\"Post-extracting predictor column and removing other predictors:\", df.shape)\n",
    "    # return extracted predictor values\n",
    "    return Y\n",
    "\n",
    "Y = trim_predictors(df, 'Marijuana_Days', ['State', 'City', 'zipcode', 'agyaddr', 'SFS8p_0', 'SFS8p_3', 'SFS8p_6', \n",
    "'SFS8p_12', 'ada_0','ada_3','ada_6','ada_12','S2c1_0','S2c1_3','S2c1_6','S2c1_12','S2b1_0','S2b1_3','S2b1_6',\n",
    "'S2b1_12','S2z1_3','S2z1_6','S2z1_12','S2z2_3','S2z2_6','S2z2_12','S2z3_3','S2z3_6','S2z3_12','S2z4_3','S2z4_6',\n",
    "'S2z4_12','S2z5_3','S2z5_6','S2z5_12','Any_Cens','Alcohol_Cens','Binge_Cens','Marijuana_Cens','Illicit_Cens',\n",
    "'Any_Days','Binge_Days','Alcohol_Days','Illicit_Days', 'Marijuana_Days'])"
   ]
  },
  {
   "cell_type": "code",
   "execution_count": null,
   "metadata": {},
   "outputs": [],
   "source": [
    "import numpy as np\n",
    "from IPython.display import display_html\n",
    "\n",
    "def display_side_by_side(*args):\n",
    "    html_str=''\n",
    "    for df in args:\n",
    "        html_str+=df.to_html()\n",
    "    display_html(html_str.replace('table','table style=\"display:inline\"'),raw=True)\n",
    "\n",
    "def drop_NaN_columns(df):\n",
    "    # replace all -999 with NaN inplace\n",
    "    df.replace(to_replace = -999, value = np.nan, inplace = True)\n",
    "    \n",
    "    # calculate percentage of NaNs in each column\n",
    "    percent_missing = df.isnull().sum() * 100 / len(df)\n",
    "    missing_value_df = pd.DataFrame({'column_name': df.columns,'percent_missing': percent_missing})\n",
    "    third = int(round(len(missing_value_df) / 3))\n",
    "    display_side_by_side(missing_value_df[0:third], missing_value_df[third:third*2], missing_value_df[third*2:len(missing_value_df)])\n",
    "    \n",
    "    # drop columns with > 25% inplace\n",
    "    cols = []\n",
    "    for index, row in missing_value_df.iterrows():\n",
    "        if row['percent_missing'] > 25:\n",
    "          cols.append(row['column_name'])\n",
    "    df.drop(columns=cols, inplace=True)\n",
    "    print(\"columns dropped:\", cols)\n",
    "    print(\"new df shape:\", df.shape)\n",
    "    \n",
    "drop_NaN_columns(df)"
   ]
  },
  {
   "cell_type": "code",
   "execution_count": null,
   "metadata": {},
   "outputs": [],
   "source": [
    "def fill_NaN_columns(df):\n",
    "    # replace NaNs with mean/mode inplace\n",
    "    final_df = df.fillna(df.mean()).fillna(df.mode().iloc[0])\n",
    "    percent_missing = final_df.isnull().sum() * 100 / len(df)\n",
    "    missing_value_df = pd.DataFrame({'column_name': final_df.columns,'percent_missing': percent_missing})\n",
    "    third = int(round(len(missing_value_df) / 3))\n",
    "    display_side_by_side(missing_value_df[0:third], missing_value_df[third:third*2], missing_value_df[third*2:len(missing_value_df)])\n",
    "    print(\"df shape (should be same as previous cell):\", final_df.shape)\n",
    "    return final_df\n",
    "\n",
    "final_df = fill_NaN_columns(df)"
   ]
  },
  {
   "cell_type": "code",
   "execution_count": null,
   "metadata": {},
   "outputs": [],
   "source": [
    "# split data into train and test\n",
    "# drop ID column but save it for post-model labelling\n",
    "\n",
    "from sklearn.model_selection import train_test_split\n",
    "\n",
    "Xtr, Xte, Ytr, Yte = train_test_split(final_df, Y, test_size=0.25, random_state=17)\n",
    "Xte_IDs = Xte['ID'].copy()\n",
    "Xtr.drop(columns=['ID'], inplace=True)\n",
    "Xte.drop(columns=['ID'], inplace=True)\n",
    "\n",
    "print(\"Xtr:\", Xtr.shape)\n",
    "print(\"Ytr:\", Ytr.shape)\n",
    "print(\"Xte:\", Xte.shape)\n",
    "print(\"Yte:\", Yte.shape)"
   ]
  },
  {
   "cell_type": "code",
   "execution_count": null,
   "metadata": {
    "scrolled": false
   },
   "outputs": [],
   "source": [
    "# train regression model\n",
    "# examine coefficients and drop columns with coefficient close to 0\n",
    "# retrain regression model and print results\n",
    "\n",
    "from sklearn.preprocessing import PolynomialFeatures\n",
    "from sklearn import metrics\n",
    "from pandas import DataFrame\n",
    "import matplotlib.pyplot as plt\n",
    "\n",
    "poly_reg = PolynomialFeatures(degree=4)\n",
    "X_poly = poly_reg.fit_transform(Xtr)\n",
    "pol_reg = LinearRegression()\n",
    "pol_reg.fit(X_poly, Ytr)\n",
    "\n",
    "predictions = pol_reg.predict(poly_reg.fit_transform(Xte))\n",
    "\n",
    "y_test = pd.concat([Xte_IDs, Yte], axis=1, sort=True).dropna()\n",
    "y_pred = pd.concat([Xte_IDs, predictions], axis=1, sort=True).dropna()\n",
    "\n",
    "y_test = y_test[:len(y_pred)]\n",
    "\n",
    "print(y_pred.shape)\n",
    "print(y_test.shape)\n",
    "\n",
    "display_side_by_side(y_pred.head(), y_test.head())\n",
    "\n",
    "print('Mean Absolute Error:', metrics.mean_absolute_error(y_test, y_pred))\n",
    "\n",
    "\"\"\"\n",
    "coefficients = pd.DataFrame({'Coefficients': poly.coef_})\n",
    "columns = pd.DataFrame({'column_name': Xtr.columns})\n",
    "\n",
    "combined = pd.DataFrame({'Coefficients': poly.coef_, 'column_name': Xtr.columns})\n",
    "quarter = int(round(len(combined) / 4))\n",
    "display_side_by_side(combined[0:quarter], combined[quarter:quarter*2], combined[quarter*2:quarter*3], combined[quarter*3:len(combined)])\n",
    "\n",
    "# drop columns with -1 < x < 1 coefficient inplace\n",
    "cols = []\n",
    "for index, row in combined.iterrows():\n",
    "    if row['Coefficients'] > -1 and row['Coefficients'] < 1:\n",
    "      cols.append(row['column_name'])\n",
    "Xtr.drop(columns=cols, inplace=True)\n",
    "Xte.drop(columns=cols, inplace=True)\n",
    "\n",
    "poly.fit(Xtr, Ytr)\n",
    "\n",
    "predictions = pd.DataFrame({'Marijuana_Days': poly.predict(Xte)})\n",
    "Yte = pd.DataFrame(Yte.dropna())\n",
    "\n",
    "y_test = pd.concat([Xte_IDs, Yte], axis=1, sort=True).dropna()\n",
    "y_pred = pd.concat([Xte_IDs, predictions], axis=1, sort=True).dropna()\n",
    "\n",
    "y_test = y_test[:len(y_pred)]\n",
    "\n",
    "print(y_pred.shape)\n",
    "print(y_test.shape)\n",
    "\n",
    "display_side_by_side(y_pred.head(), y_test.head())\n",
    "\n",
    "print('Mean Absolute Error:', metrics.mean_absolute_error(y_test, y_pred))\n",
    "\"\"\""
   ]
  },
  {
   "cell_type": "code",
   "execution_count": null,
   "metadata": {},
   "outputs": [],
   "source": [
    "print('done!')"
   ]
  }
 ],
 "metadata": {
  "kernelspec": {
   "display_name": "Python 3",
   "language": "python",
   "name": "python3"
  },
  "language_info": {
   "codemirror_mode": {
    "name": "ipython",
    "version": 3
   },
   "file_extension": ".py",
   "mimetype": "text/x-python",
   "name": "python",
   "nbconvert_exporter": "python",
   "pygments_lexer": "ipython3",
   "version": "3.7.3"
  }
 },
 "nbformat": 4,
 "nbformat_minor": 2
}
