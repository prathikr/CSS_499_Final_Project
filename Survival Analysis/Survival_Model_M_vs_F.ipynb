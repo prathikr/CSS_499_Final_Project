{
 "cells": [
  {
   "cell_type": "code",
   "execution_count": 180,
   "metadata": {},
   "outputs": [],
   "source": [
    "import pandas as pd\n",
    "pd.set_option('display.max_columns', None)\n",
    "\n",
    "# read csv from github url\n",
    "# return pandas dataframe\n",
    "url = 'https://raw.githubusercontent.com/prathikr/CS_499_Final_Project/master/BISTRA_GROUP_PROJECT_SMALL.csv'\n",
    "df = pd.read_csv(url)"
   ]
  },
  {
   "cell_type": "code",
   "execution_count": 181,
   "metadata": {},
   "outputs": [
    {
     "data": {
      "text/plain": [
       "array([[<matplotlib.axes._subplots.AxesSubplot object at 0x1a1cc204e0>]],\n",
       "      dtype=object)"
      ]
     },
     "execution_count": 181,
     "metadata": {},
     "output_type": "execute_result"
    },
    {
     "data": {
      "image/png": "[encoded data removed]",
      "text/plain": [
       "<Figure size 432x288 with 1 Axes>"
      ]
     },
     "metadata": {},
     "output_type": "display_data"
    }
   ],
   "source": [
    "df = df[df.Marijuana_Days != -999] # removes all rows with Marijuana_Days = -999\n",
    "df['zipcode'] = df['zipcode'].str[:5] # trim zip codes down to first 5 digits\n",
    "df.hist(column='Marijuana_Days', bins=21) # 21 chosen so that there would be 3 bins between each x-axis number"
   ]
  },
  {
   "cell_type": "code",
   "execution_count": 182,
   "metadata": {},
   "outputs": [
    {
     "name": "stdout",
     "output_type": "stream",
     "text": [
      "Original df: (26490, 110)\n",
      "Updated df: (14166, 41)\n"
     ]
    }
   ],
   "source": [
    "print(\"Original df:\", df.shape)\n",
    "\n",
    "unused_potential_predictors = ['SFS8p_0', 'SFS8p_3', 'SFS8p_6', 'SFS8p_12', 'ada_0','ada_3',\n",
    "'ada_6','ada_12','S2c1_0','S2c1_3','S2c1_6','S2c1_12','S2b1_0','S2b1_3','S2b1_6','S2b1_12','S2z1_3','S2z1_6',\n",
    "'S2z1_12','S2z2_3','S2z2_6','S2z2_12','S2z3_3','S2z3_6','S2z3_12','S2z4_3','S2z4_6','S2z4_12','S2z5_3','S2z5_6',\n",
    "'S2z5_12','Any_Cens','Alcohol_Cens','Binge_Cens','Marijuana_Cens','Illicit_Cens','Any_Days','Binge_Days',\n",
    "'Alcohol_Days','Illicit_Days']\n",
    "\n",
    "domain_expert_cols_to_drop = ['SPSy_0', 'loc', 'AFSS_0', 'E9a', 'E9b', 'E9c', 'E9d', 'E9e', 'E9e18', 'E9f', 'ID', \n",
    "'E9g', 'E9h', 'E9j', 'E9k', 'E9m', 'txtypeg', 'S7e4_0', 'engage42', 'POPIgrp','L5', 'E14a_0', 'E14b_0', 'SDScrY']\n",
    "\n",
    "text_columns = ['City', 'agyaddr', 'zipcode', 'State']\n",
    "\n",
    "cols_to_drop = text_columns + domain_expert_cols_to_drop + unused_potential_predictors\n",
    "\n",
    "# drop columns and isolate to specific substance\n",
    "df.drop(columns=cols_to_drop, inplace=True)\n",
    "df = df[df.primsev == 3] # leaves only marijuana drug abusers in dataframe\n",
    "df.drop(columns=['primsev'], inplace=True)\n",
    "print(\"Updated df:\", df.shape)"
   ]
  },
  {
   "cell_type": "code",
   "execution_count": 183,
   "metadata": {},
   "outputs": [
    {
     "data": {
      "text/html": [
       "<table style=\"display:inline\" border=\"1\" class=\"dataframe\">\n",
       "  <thead>\n",
       "    <tr style=\"text-align: right;\">\n",
       "      <th></th>\n",
       "      <th>column_name</th>\n",
       "      <th>percent_missing</th>\n",
       "    </tr>\n",
       "  </thead>\n",
       "  <tbody>\n",
       "    <tr>\n",
       "      <th>female</th>\n",
       "      <td>female</td>\n",
       "      <td>0.000000</td>\n",
       "    </tr>\n",
       "    <tr>\n",
       "      <th>nonwhite</th>\n",
       "      <td>nonwhite</td>\n",
       "      <td>0.035296</td>\n",
       "    </tr>\n",
       "    <tr>\n",
       "      <th>unemplmt</th>\n",
       "      <td>unemplmt</td>\n",
       "      <td>0.197656</td>\n",
       "    </tr>\n",
       "    <tr>\n",
       "      <th>B2a_0</th>\n",
       "      <td>B2a_0</td>\n",
       "      <td>0.000000</td>\n",
       "    </tr>\n",
       "    <tr>\n",
       "      <th>noins</th>\n",
       "      <td>noins</td>\n",
       "      <td>59.819286</td>\n",
       "    </tr>\n",
       "    <tr>\n",
       "      <th>prsatx</th>\n",
       "      <td>prsatx</td>\n",
       "      <td>0.268248</td>\n",
       "    </tr>\n",
       "    <tr>\n",
       "      <th>tottxp4</th>\n",
       "      <td>tottxp4</td>\n",
       "      <td>0.000000</td>\n",
       "    </tr>\n",
       "    <tr>\n",
       "      <th>TRI_0</th>\n",
       "      <td>TRI_0</td>\n",
       "      <td>1.221234</td>\n",
       "    </tr>\n",
       "    <tr>\n",
       "      <th>GVS</th>\n",
       "      <td>GVS</td>\n",
       "      <td>0.176479</td>\n",
       "    </tr>\n",
       "    <tr>\n",
       "      <th>tsd_0</th>\n",
       "      <td>tsd_0</td>\n",
       "      <td>0.232952</td>\n",
       "    </tr>\n",
       "    <tr>\n",
       "      <th>und15</th>\n",
       "      <td>und15</td>\n",
       "      <td>1.680079</td>\n",
       "    </tr>\n",
       "    <tr>\n",
       "      <th>CWS_0</th>\n",
       "      <td>CWS_0</td>\n",
       "      <td>0.183538</td>\n",
       "    </tr>\n",
       "    <tr>\n",
       "      <th>IPI</th>\n",
       "      <td>IPI</td>\n",
       "      <td>21.862205</td>\n",
       "    </tr>\n",
       "    <tr>\n",
       "      <th>RFQ33c</th>\n",
       "      <td>RFQ33c</td>\n",
       "      <td>40.371312</td>\n",
       "    </tr>\n",
       "  </tbody>\n",
       "</table style=\"display:inline\"><table style=\"display:inline\" border=\"1\" class=\"dataframe\">\n",
       "  <thead>\n",
       "    <tr style=\"text-align: right;\">\n",
       "      <th></th>\n",
       "      <th>column_name</th>\n",
       "      <th>percent_missing</th>\n",
       "    </tr>\n",
       "  </thead>\n",
       "  <tbody>\n",
       "    <tr>\n",
       "      <th>GSSI_0</th>\n",
       "      <td>GSSI_0</td>\n",
       "      <td>53.536637</td>\n",
       "    </tr>\n",
       "    <tr>\n",
       "      <th>S9y10</th>\n",
       "      <td>S9y10</td>\n",
       "      <td>0.247070</td>\n",
       "    </tr>\n",
       "    <tr>\n",
       "      <th>dldiag</th>\n",
       "      <td>dldiag</td>\n",
       "      <td>22.829310</td>\n",
       "    </tr>\n",
       "    <tr>\n",
       "      <th>press</th>\n",
       "      <td>press</td>\n",
       "      <td>53.338981</td>\n",
       "    </tr>\n",
       "    <tr>\n",
       "      <th>DSS9_0</th>\n",
       "      <td>DSS9_0</td>\n",
       "      <td>0.120006</td>\n",
       "    </tr>\n",
       "    <tr>\n",
       "      <th>ADHDs_0</th>\n",
       "      <td>ADHDs_0</td>\n",
       "      <td>0.303544</td>\n",
       "    </tr>\n",
       "    <tr>\n",
       "      <th>CDS_0</th>\n",
       "      <td>CDS_0</td>\n",
       "      <td>0.275307</td>\n",
       "    </tr>\n",
       "    <tr>\n",
       "      <th>suicprbs_0</th>\n",
       "      <td>suicprbs_0</td>\n",
       "      <td>0.240011</td>\n",
       "    </tr>\n",
       "    <tr>\n",
       "      <th>CJSI_0</th>\n",
       "      <td>CJSI_0</td>\n",
       "      <td>3.169561</td>\n",
       "    </tr>\n",
       "    <tr>\n",
       "      <th>LRI7_0</th>\n",
       "      <td>LRI7_0</td>\n",
       "      <td>2.993082</td>\n",
       "    </tr>\n",
       "    <tr>\n",
       "      <th>SRI7_0</th>\n",
       "      <td>SRI7_0</td>\n",
       "      <td>4.016660</td>\n",
       "    </tr>\n",
       "    <tr>\n",
       "      <th>ERS21_0</th>\n",
       "      <td>ERS21_0</td>\n",
       "      <td>0.204716</td>\n",
       "    </tr>\n",
       "    <tr>\n",
       "      <th>homeless_0</th>\n",
       "      <td>homeless_0</td>\n",
       "      <td>0.303544</td>\n",
       "    </tr>\n",
       "    <tr>\n",
       "      <th>S6</th>\n",
       "      <td>S6</td>\n",
       "      <td>0.501200</td>\n",
       "    </tr>\n",
       "  </tbody>\n",
       "</table style=\"display:inline\"><table style=\"display:inline\" border=\"1\" class=\"dataframe\">\n",
       "  <thead>\n",
       "    <tr style=\"text-align: right;\">\n",
       "      <th></th>\n",
       "      <th>column_name</th>\n",
       "      <th>percent_missing</th>\n",
       "    </tr>\n",
       "  </thead>\n",
       "  <tbody>\n",
       "    <tr>\n",
       "      <th>PSSI_0</th>\n",
       "      <td>PSSI_0</td>\n",
       "      <td>53.501341</td>\n",
       "    </tr>\n",
       "    <tr>\n",
       "      <th>RERI13p_0</th>\n",
       "      <td>RERI13p_0</td>\n",
       "      <td>58.054497</td>\n",
       "    </tr>\n",
       "    <tr>\n",
       "      <th>ncar</th>\n",
       "      <td>ncar</td>\n",
       "      <td>3.282507</td>\n",
       "    </tr>\n",
       "    <tr>\n",
       "      <th>engage30</th>\n",
       "      <td>engage30</td>\n",
       "      <td>7.786249</td>\n",
       "    </tr>\n",
       "    <tr>\n",
       "      <th>init</th>\n",
       "      <td>init</td>\n",
       "      <td>0.000000</td>\n",
       "    </tr>\n",
       "    <tr>\n",
       "      <th>FIS4p_0</th>\n",
       "      <td>FIS4p_0</td>\n",
       "      <td>57.129747</td>\n",
       "    </tr>\n",
       "    <tr>\n",
       "      <th>HIVrisk</th>\n",
       "      <td>HIVrisk</td>\n",
       "      <td>0.035296</td>\n",
       "    </tr>\n",
       "    <tr>\n",
       "      <th>totttld</th>\n",
       "      <td>totttld</td>\n",
       "      <td>7.962728</td>\n",
       "    </tr>\n",
       "    <tr>\n",
       "      <th>POS_0</th>\n",
       "      <td>POS_0</td>\n",
       "      <td>0.190597</td>\n",
       "    </tr>\n",
       "    <tr>\n",
       "      <th>S2x_0</th>\n",
       "      <td>S2x_0</td>\n",
       "      <td>0.162361</td>\n",
       "    </tr>\n",
       "    <tr>\n",
       "      <th>SPSm_0</th>\n",
       "      <td>SPSm_0</td>\n",
       "      <td>0.056473</td>\n",
       "    </tr>\n",
       "    <tr>\n",
       "      <th>EPS7p_0</th>\n",
       "      <td>EPS7p_0</td>\n",
       "      <td>0.091769</td>\n",
       "    </tr>\n",
       "    <tr>\n",
       "      <th>Marijuana_Days</th>\n",
       "      <td>Marijuana_Days</td>\n",
       "      <td>0.000000</td>\n",
       "    </tr>\n",
       "  </tbody>\n",
       "</table style=\"display:inline\">"
      ]
     },
     "metadata": {},
     "output_type": "display_data"
    }
   ],
   "source": [
    "import numpy as np\n",
    "from IPython.display import display_html\n",
    "\n",
    "def display_side_by_side(*args):\n",
    "    html_str=''\n",
    "    for df in args:\n",
    "        html_str+=df.to_html()\n",
    "    display_html(html_str.replace('table','table style=\"display:inline\"'),raw=True)\n",
    "\n",
    "# replace all -999 with NaN inplace\n",
    "df.replace(to_replace = -999, value = np.nan, inplace=True)\n",
    "\n",
    "# calculate percentage of NaNs in each column\n",
    "percent_missing = df.isnull().sum() * 100 / len(df)\n",
    "missing_value_df = pd.DataFrame({'column_name': df.columns,'percent_missing': percent_missing})\n",
    "third = int(round(len(missing_value_df) / 3))\n",
    "display_side_by_side(missing_value_df[0:third], missing_value_df[third:third*2], missing_value_df[third*2:len(missing_value_df)])"
   ]
  },
  {
   "cell_type": "code",
   "execution_count": 184,
   "metadata": {},
   "outputs": [
    {
     "name": "stdout",
     "output_type": "stream",
     "text": [
      "Original df: (14166, 41)\n",
      "columns dropped: ['noins', 'RFQ33c', 'GSSI_0', 'press', 'PSSI_0', 'RERI13p_0', 'FIS4p_0']\n",
      "new df shape: (14166, 34)\n"
     ]
    }
   ],
   "source": [
    "print(\"Original df:\", df.shape)\n",
    "\n",
    "# drop columns with > 25% NaNs\n",
    "cols = []\n",
    "for index, row in missing_value_df.iterrows():\n",
    "    if row['percent_missing'] > 25:\n",
    "      cols.append(row['column_name'])\n",
    "df.drop(columns=cols, inplace=True)\n",
    "print(\"columns dropped:\", cols)\n",
    "print(\"new df shape:\", df.shape)"
   ]
  },
  {
   "cell_type": "code",
   "execution_count": 185,
   "metadata": {},
   "outputs": [
    {
     "name": "stdout",
     "output_type": "stream",
     "text": [
      "bool_cols ['female', 'nonwhite', 'unemplmt', 'prsatx', 'tsd_0', 'und15', 'dldiag', 'suicprbs_0', 'homeless_0', 'S6', 'ncar', 'engage30', 'init']\n"
     ]
    }
   ],
   "source": [
    "# identify boolean columns\n",
    "bool_cols = [col for col in df \n",
    "             if np.isin(df[col].dropna().unique(), [0, 1]).all()]\n",
    "print(\"bool_cols\", bool_cols)"
   ]
  },
  {
   "cell_type": "code",
   "execution_count": 186,
   "metadata": {},
   "outputs": [
    {
     "name": "stdout",
     "output_type": "stream",
     "text": [
      "\n",
      "no null values!!!! yay!!\n"
     ]
    }
   ],
   "source": [
    "# replace boolean column NaNs with mode\n",
    "for column in bool_cols:\n",
    "    df[column].fillna(df[column].mode()[0], inplace=True)\n",
    "    \n",
    "# since binary columns are filled we can just replace all other NaNs with mean\n",
    "for column in df.columns:\n",
    "    if column != 'State' and column != 'zipcode':\n",
    "        df[column].fillna(df[column].mean(), inplace=True)\n",
    "\n",
    "# maybe find elegant way to just print % NaNs in entire df and if anything but 0% something went wrong\n",
    "percent_missing = df.isnull().sum() * 100 / len(df)\n",
    "missing_value_df = pd.DataFrame({'column_name': df.columns,'percent_missing': percent_missing})\n",
    "all_null = True\n",
    "for index, row in missing_value_df.iterrows():\n",
    "    if row['percent_missing'] > 0:\n",
    "        all_null = False\n",
    "        print(row['column_name'], \"has null values!!!! rip...\")\n",
    "        \n",
    "if all_null:\n",
    "    print(\"\\nno null values!!!! yay!!\")"
   ]
  },
  {
   "cell_type": "code",
   "execution_count": 187,
   "metadata": {},
   "outputs": [
    {
     "data": {
      "image/png": "[encoded data removed]",
      "text/plain": [
       "<Figure size 432x288 with 1 Axes>"
      ]
     },
     "metadata": {},
     "output_type": "display_data"
    }
   ],
   "source": [
    "# normalize columns that are continuous\n",
    "from sklearn import preprocessing\n",
    "\n",
    "cols = ['tottxp4', 'CWS_0', 'ADHDs_0', 'CDS_0', 'CJSI_0', 'EPS7p_0', 'LRI7_0', 'SRI7_0', \n",
    "          'ERS21_0', 'HIVrisk', 'totttld', 'S2x_0', 'SPSm_0']\n",
    "\n",
    "# visualize data histograms before normalization as a sanity check\n",
    "df.hist(column=cols[0])\n",
    "\n",
    "scaler = preprocessing.StandardScaler()\n",
    "for i in cols:\n",
    "    df[i] = scaler.fit_transform(df[[i]])"
   ]
  },
  {
   "cell_type": "code",
   "execution_count": 188,
   "metadata": {
    "scrolled": true
   },
   "outputs": [
    {
     "data": {
      "text/plain": [
       "array([[<matplotlib.axes._subplots.AxesSubplot object at 0x1a1b6f84e0>]],\n",
       "      dtype=object)"
      ]
     },
     "execution_count": 188,
     "metadata": {},
     "output_type": "execute_result"
    },
    {
     "data": {
      "image/png": "[encoded data removed]",
      "text/plain": [
       "<Figure size 432x288 with 1 Axes>"
      ]
     },
     "metadata": {},
     "output_type": "display_data"
    }
   ],
   "source": [
    "# visualize data histograms after normalization as a sanity check\n",
    "df.hist(column=cols[0])"
   ]
  },
  {
   "cell_type": "code",
   "execution_count": 189,
   "metadata": {},
   "outputs": [
    {
     "name": "stdout",
     "output_type": "stream",
     "text": [
      "Male Data: (11227, 33) Female Data: (2939, 33)\n"
     ]
    },
    {
     "name": "stderr",
     "output_type": "stream",
     "text": [
      "//anaconda3/lib/python3.7/site-packages/pandas/core/frame.py:3940: SettingWithCopyWarning: \n",
      "A value is trying to be set on a copy of a slice from a DataFrame\n",
      "\n",
      "See the caveats in the documentation: http://pandas.pydata.org/pandas-docs/stable/indexing.html#indexing-view-versus-copy\n",
      "  errors=errors)\n"
     ]
    }
   ],
   "source": [
    "from sklearn.model_selection import train_test_split\n",
    "\n",
    "# segment data by gender\n",
    "X_m = df[df.female == 0].copy()\n",
    "X_f = df[df.female == 1].copy()\n",
    "X_m.drop(columns=['female'], inplace=True)\n",
    "X_f.drop(columns=['female'], inplace=True)\n",
    "\n",
    "print(\"Male Data:\", X_m.shape, \"Female Data:\", X_f.shape)\n",
    "\n",
    "X_m_tr, X_m_te = train_test_split(X_m, test_size=0.2)\n",
    "X_f_tr, X_f_te = train_test_split(X_f, test_size=0.2)\n",
    "\n",
    "# extract Marujiana_Days predictor\n",
    "Y_m_tr = X_m_tr['Marijuana_Days'].copy()\n",
    "Y_m_te = X_m_te['Marijuana_Days'].copy()\n",
    "Y_f_tr = X_f_tr['Marijuana_Days'].copy()\n",
    "Y_f_te = X_f_te['Marijuana_Days'].copy()\n",
    "X_m_tr.drop(columns=['Marijuana_Days'], inplace=True)\n",
    "X_m_te.drop(columns=['Marijuana_Days'], inplace=True)\n",
    "X_f_tr.drop(columns=['Marijuana_Days'], inplace=True)\n",
    "X_f_te.drop(columns=['Marijuana_Days'], inplace=True)"
   ]
  },
  {
   "cell_type": "code",
   "execution_count": 190,
   "metadata": {
    "scrolled": true
   },
   "outputs": [
    {
     "data": {
      "text/plain": [
       "CoxPHSurvivalAnalysis(alpha=0, n_iter=100, ties='breslow', tol=1e-09, verbose=0)"
      ]
     },
     "execution_count": 190,
     "metadata": {},
     "output_type": "execute_result"
    }
   ],
   "source": [
    "import matplotlib.pyplot as plt\n",
    "from sksurv.util import Surv\n",
    "from sksurv.linear_model import CoxPHSurvivalAnalysis\n",
    "import seaborn as sns\n",
    "\n",
    "sns.set_style(\"whitegrid\")\n",
    "\n",
    "# generate male-only model with male training data\n",
    "Y_m_tr_censored = Surv.from_arrays(Y_m_tr < 365, Y_m_tr.copy()) # structured array to ensure censoring of 365 value\n",
    "model_m = CoxPHSurvivalAnalysis()\n",
    "model_m.fit(X_m_tr, Y_m_tr_censored)\n",
    "\n",
    "# generate female-only model with female training data\n",
    "Y_f_tr_censored = Surv.from_arrays(Y_f_tr < 365, Y_f_tr.copy()) # structured array to ensure censoring of 365 value\n",
    "model_f = CoxPHSurvivalAnalysis()\n",
    "model_f.fit(X_f_tr, Y_f_tr_censored)"
   ]
  },
  {
   "cell_type": "code",
   "execution_count": 191,
   "metadata": {},
   "outputs": [
    {
     "name": "stdout",
     "output_type": "stream",
     "text": [
      "Score: 0.5903821555670394\n"
     ]
    }
   ],
   "source": [
    "# predict on male test data\n",
    "pred_surv_m = model_m.predict_survival_function(X_m_te)\n",
    "Y_m_te_censored = Surv.from_arrays(Y_m_te < 365, Y_m_te.copy()) # structured array to ensure censoring of 365 value\n",
    "score_m = model_m.score(X_m_te, Y_m_te_censored)\n",
    "\n",
    "print(\"Concordance Index:\", score_m)"
   ]
  },
  {
   "cell_type": "code",
   "execution_count": 192,
   "metadata": {},
   "outputs": [
    {
     "name": "stdout",
     "output_type": "stream",
     "text": [
      "Score: 0.5938338040731381\n"
     ]
    }
   ],
   "source": [
    "# predict on female test data\n",
    "pred_surv_f = model_f.predict_survival_function(X_f_te)\n",
    "Y_f_te_censored = Surv.from_arrays(Y_f_te < 365, Y_f_te.copy()) # structured array to ensure censoring of 365 value\n",
    "score_f = model_f.score(X_f_te, Y_f_te_censored)\n",
    "\n",
    "print(\"Concordance Index:\", score_f)"
   ]
  },
  {
   "cell_type": "code",
   "execution_count": 195,
   "metadata": {},
   "outputs": [
    {
     "data": {
      "text/plain": [
       "Text(0.5, 1.0, 'Females')"
      ]
     },
     "execution_count": 195,
     "metadata": {},
     "output_type": "execute_result"
    },
    {
     "data": {
      "image/png": "[encoded data removed]",
      "text/plain": [
       "<Figure size 504x504 with 2 Axes>"
      ]
     },
     "metadata": {},
     "output_type": "display_data"
    }
   ],
   "source": [
    "# display results side-by-side for comparison\n",
    "fig, (ax1, ax2) = plt.subplots(1, 2, sharex=True, sharey=True, figsize=(7,7))\n",
    "fig.suptitle('Probability of Marijuana Relapse Within a Year')\n",
    "ax1.plot(np.mean([person.y for person in pred_surv_m], axis=0))\n",
    "ax1.set_title('Males')\n",
    "ax2.plot(np.mean([person.y for person in pred_surv_f], axis=0))\n",
    "ax2.set_title('Females')"
   ]
  },
  {
   "cell_type": "code",
   "execution_count": null,
   "metadata": {},
   "outputs": [],
   "source": []
  }
 ],
 "metadata": {
  "kernelspec": {
   "display_name": "Python 3",
   "language": "python",
   "name": "python3"
  },
  "language_info": {
   "codemirror_mode": {
    "name": "ipython",
    "version": 3
   },
   "file_extension": ".py",
   "mimetype": "text/x-python",
   "name": "python",
   "nbconvert_exporter": "python",
   "pygments_lexer": "ipython3",
   "version": "3.7.3"
  }
 },
 "nbformat": 4,
 "nbformat_minor": 2
}
